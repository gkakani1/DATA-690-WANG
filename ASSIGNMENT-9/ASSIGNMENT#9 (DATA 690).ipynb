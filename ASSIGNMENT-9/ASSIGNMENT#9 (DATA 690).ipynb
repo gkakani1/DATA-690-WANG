{
 "cells": [
  {
   "cell_type": "code",
   "execution_count": 245,
   "metadata": {},
   "outputs": [],
   "source": [
    "# Import libraries\n",
    "import os\n",
    "import pandas as pd\n",
    "import matplotlib.pyplot as plt"
   ]
  },
  {
   "cell_type": "markdown",
   "metadata": {},
   "source": [
    "#####  Retrieve the names of the 22 files and assign them to a List variable\n",
    "##### You would need to filter out other files\n",
    "##### Display the names of these 22 files"
   ]
  },
  {
   "cell_type": "code",
   "execution_count": 3,
   "metadata": {},
   "outputs": [
    {
     "data": {
      "text/plain": [
       "'C:\\\\Users\\\\gouth\\\\DATA 690'"
      ]
     },
     "execution_count": 3,
     "metadata": {},
     "output_type": "execute_result"
    }
   ],
   "source": [
    "cur_dir = os.getcwd()\n",
    "cur_dir"
   ]
  },
  {
   "cell_type": "code",
   "execution_count": 4,
   "metadata": {},
   "outputs": [
    {
     "data": {
      "text/plain": [
       "['.DS_Store',\n",
       " 'Crosswalks.zip',\n",
       " 'data.yaml',\n",
       " 'FieldOfStudyData1415_1516_PP.csv',\n",
       " 'FieldOfStudyData1516_1617_PP.csv',\n",
       " 'MERGED1996_97_PP.csv',\n",
       " 'MERGED1997_98_PP.csv',\n",
       " 'MERGED1998_99_PP.csv',\n",
       " 'MERGED1999_00_PP.csv',\n",
       " 'MERGED2000_01_PP.csv',\n",
       " 'MERGED2001_02_PP.csv',\n",
       " 'MERGED2002_03_PP.csv',\n",
       " 'MERGED2003_04_PP.csv',\n",
       " 'MERGED2004_05_PP.csv',\n",
       " 'MERGED2005_06_PP.csv',\n",
       " 'MERGED2006_07_PP.csv',\n",
       " 'MERGED2007_08_PP.csv',\n",
       " 'MERGED2008_09_PP.csv',\n",
       " 'MERGED2009_10_PP.csv',\n",
       " 'MERGED2010_11_PP.csv',\n",
       " 'MERGED2011_12_PP.csv',\n",
       " 'MERGED2012_13_PP.csv',\n",
       " 'MERGED2013_14_PP.csv',\n",
       " 'MERGED2014_15_PP.csv',\n",
       " 'MERGED2015_16_PP.csv',\n",
       " 'MERGED2016_17_PP.csv',\n",
       " 'MERGED2017_18_PP.csv',\n",
       " 'MERGED2018_19_PP.csv']"
      ]
     },
     "execution_count": 4,
     "metadata": {},
     "output_type": "execute_result"
    }
   ],
   "source": [
    "files = os.listdir(\"CollegeScorecard_Raw_Data\")\n",
    "files"
   ]
  },
  {
   "cell_type": "code",
   "execution_count": 5,
   "metadata": {},
   "outputs": [],
   "source": [
    "files1=[]\n",
    "for i in range(len(files)):\n",
    "    if files[i][:6] == \"MERGED\":\n",
    "               files1.append(files[i])"
   ]
  },
  {
   "cell_type": "code",
   "execution_count": 10,
   "metadata": {},
   "outputs": [
    {
     "data": {
      "text/plain": [
       "['MERGED1996_97_PP.csv',\n",
       " 'MERGED1997_98_PP.csv',\n",
       " 'MERGED1998_99_PP.csv',\n",
       " 'MERGED1999_00_PP.csv',\n",
       " 'MERGED2000_01_PP.csv',\n",
       " 'MERGED2001_02_PP.csv',\n",
       " 'MERGED2002_03_PP.csv',\n",
       " 'MERGED2003_04_PP.csv',\n",
       " 'MERGED2004_05_PP.csv',\n",
       " 'MERGED2005_06_PP.csv',\n",
       " 'MERGED2006_07_PP.csv',\n",
       " 'MERGED2007_08_PP.csv',\n",
       " 'MERGED2008_09_PP.csv',\n",
       " 'MERGED2009_10_PP.csv',\n",
       " 'MERGED2010_11_PP.csv',\n",
       " 'MERGED2011_12_PP.csv',\n",
       " 'MERGED2012_13_PP.csv',\n",
       " 'MERGED2013_14_PP.csv',\n",
       " 'MERGED2014_15_PP.csv',\n",
       " 'MERGED2015_16_PP.csv',\n",
       " 'MERGED2016_17_PP.csv',\n",
       " 'MERGED2017_18_PP.csv',\n",
       " 'MERGED2018_19_PP.csv']"
      ]
     },
     "execution_count": 10,
     "metadata": {},
     "output_type": "execute_result"
    }
   ],
   "source": [
    "files1"
   ]
  },
  {
   "cell_type": "markdown",
   "metadata": {},
   "source": [
    "\n",
    "##### 3 - Writing code to randomly select one file name out of the 22 files names. \n",
    "\n",
    "##### Displaying the file name"
   ]
  },
  {
   "cell_type": "code",
   "execution_count": 13,
   "metadata": {},
   "outputs": [],
   "source": [
    "rand_file = random.choice(files1)\n",
    "rand_file\n",
    "path = \"CollegeScorecard_Raw_Data/\"+rand_file"
   ]
  },
  {
   "cell_type": "code",
   "execution_count": 220,
   "metadata": {},
   "outputs": [
    {
     "data": {
      "text/plain": [
       "'MERGED2002_03_PP.csv'"
      ]
     },
     "execution_count": 220,
     "metadata": {},
     "output_type": "execute_result"
    }
   ],
   "source": [
    "rand_file"
   ]
  },
  {
   "cell_type": "markdown",
   "metadata": {},
   "source": [
    "#### Reading the two columns: college name (INSTNM) and in state tution (\"TUITIONFEE_IN\")\n",
    "#### from this file into a data frame and displaying use info() function to display a summary information"
   ]
  },
  {
   "cell_type": "code",
   "execution_count": 14,
   "metadata": {},
   "outputs": [
    {
     "name": "stdout",
     "output_type": "stream",
     "text": [
      "                                                 INSTNM  TUITIONFEE_IN\n",
      "0                    Community College of the Air Force            NaN\n",
      "1                              Alabama A & M University         3040.0\n",
      "2                   University of Alabama at Birmingham         3880.0\n",
      "3                                    Amridge University         8960.0\n",
      "4                   University of Alabama in Huntsville         3764.0\n",
      "...                                                 ...            ...\n",
      "6647                 San Joaquin Valley College-Ontario         4925.0\n",
      "6648                       Anthem Institute-Cherry Hill            NaN\n",
      "6649                          Westwood College-Ft Worth        10065.0\n",
      "6650                            Westwood College-Dallas        10065.0\n",
      "6651  CoxHealth School of Diagnostic Medical Sonography            NaN\n",
      "\n",
      "[6652 rows x 2 columns]\n"
     ]
    }
   ],
   "source": [
    "df_1 = pd.read_csv(path, usecols = ['INSTNM','TUITIONFEE_IN'])\n",
    "print(df_1)"
   ]
  },
  {
   "cell_type": "code",
   "execution_count": 223,
   "metadata": {},
   "outputs": [
    {
     "name": "stdout",
     "output_type": "stream",
     "text": [
      "<class 'pandas.core.frame.DataFrame'>\n",
      "Int64Index: 4045 entries, 1 to 6650\n",
      "Data columns (total 2 columns):\n",
      "INSTNM           4045 non-null object\n",
      "TUITIONFEE_IN    4045 non-null float64\n",
      "dtypes: float64(1), object(1)\n",
      "memory usage: 94.8+ KB\n"
     ]
    }
   ],
   "source": [
    "df_1.info()"
   ]
  },
  {
   "cell_type": "markdown",
   "metadata": {},
   "source": [
    "#####  Finding out how many observations have missing value."
   ]
  },
  {
   "cell_type": "code",
   "execution_count": 221,
   "metadata": {},
   "outputs": [
    {
     "data": {
      "text/plain": [
       "INSTNM           0\n",
       "TUITIONFEE_IN    0\n",
       "dtype: int64"
      ]
     },
     "execution_count": 221,
     "metadata": {},
     "output_type": "execute_result"
    }
   ],
   "source": [
    "\n",
    "df_1.isna().sum()"
   ]
  },
  {
   "cell_type": "markdown",
   "metadata": {},
   "source": [
    "##### Dropping those observations with missing value\n",
    "##### Disaplying the number of observations afterward\n",
    "\n",
    "\n",
    "#####  Finding out how many observations have 0 tution."
   ]
  },
  {
   "cell_type": "code",
   "execution_count": 222,
   "metadata": {},
   "outputs": [],
   "source": [
    "df_1 = df_1.dropna()"
   ]
  },
  {
   "cell_type": "code",
   "execution_count": 19,
   "metadata": {},
   "outputs": [
    {
     "data": {
      "text/plain": [
       "INSTNM           0\n",
       "TUITIONFEE_IN    0\n",
       "dtype: int64"
      ]
     },
     "execution_count": 19,
     "metadata": {},
     "output_type": "execute_result"
    }
   ],
   "source": [
    "df_1.isna().sum()"
   ]
  },
  {
   "cell_type": "code",
   "execution_count": 29,
   "metadata": {},
   "outputs": [
    {
     "data": {
      "text/plain": [
       "0"
      ]
     },
     "execution_count": 29,
     "metadata": {},
     "output_type": "execute_result"
    }
   ],
   "source": [
    "df_2 = df_1.apply(lambda x: True if x['TUITIONFEE_IN'] == 0 else False , axis=1)\n",
    "len(df_2[df_2 == True].index)"
   ]
  },
  {
   "cell_type": "code",
   "execution_count": 30,
   "metadata": {},
   "outputs": [],
   "source": [
    "df_1 = df_1[df_1.TUITIONFEE_IN != 0]"
   ]
  },
  {
   "cell_type": "markdown",
   "metadata": {},
   "source": [
    "##### Calculating and displaying the mean (average) of the tuitions of all the remaining observations"
   ]
  },
  {
   "cell_type": "code",
   "execution_count": 56,
   "metadata": {},
   "outputs": [],
   "source": [
    "global avg_fee\n",
    "avg_fee = df_1['TUITIONFEE_IN'].mean()"
   ]
  },
  {
   "cell_type": "code",
   "execution_count": 32,
   "metadata": {},
   "outputs": [
    {
     "name": "stdout",
     "output_type": "stream",
     "text": [
      "7857.799505562422\n"
     ]
    }
   ],
   "source": [
    "print(avg_fee)"
   ]
  },
  {
   "cell_type": "markdown",
   "metadata": {},
   "source": [
    "##### Randomly select just 1 observation from the data frame.\n",
    "##### Display the tuition of that observation."
   ]
  },
  {
   "cell_type": "code",
   "execution_count": 41,
   "metadata": {},
   "outputs": [
    {
     "data": {
      "text/html": [
       "<div>\n",
       "<style scoped>\n",
       "    .dataframe tbody tr th:only-of-type {\n",
       "        vertical-align: middle;\n",
       "    }\n",
       "\n",
       "    .dataframe tbody tr th {\n",
       "        vertical-align: top;\n",
       "    }\n",
       "\n",
       "    .dataframe thead th {\n",
       "        text-align: right;\n",
       "    }\n",
       "</style>\n",
       "<table border=\"1\" class=\"dataframe\">\n",
       "  <thead>\n",
       "    <tr style=\"text-align: right;\">\n",
       "      <th></th>\n",
       "      <th>INSTNM</th>\n",
       "      <th>TUITIONFEE_IN</th>\n",
       "    </tr>\n",
       "  </thead>\n",
       "  <tbody>\n",
       "    <tr>\n",
       "      <td>1208</td>\n",
       "      <td>Eureka College</td>\n",
       "      <td>17780.0</td>\n",
       "    </tr>\n",
       "  </tbody>\n",
       "</table>\n",
       "</div>"
      ],
      "text/plain": [
       "              INSTNM  TUITIONFEE_IN\n",
       "1208  Eureka College        17780.0"
      ]
     },
     "execution_count": 41,
     "metadata": {},
     "output_type": "execute_result"
    }
   ],
   "source": [
    "`rand_row_1 = df_1.sample(n=1)\n",
    "rand_row_1"
   ]
  },
  {
   "cell_type": "code",
   "execution_count": 42,
   "metadata": {},
   "outputs": [],
   "source": [
    "fee1 = rand_row_1[\"TUITIONFEE_IN\"].values[0]"
   ]
  },
  {
   "cell_type": "code",
   "execution_count": 43,
   "metadata": {},
   "outputs": [
    {
     "data": {
      "text/plain": [
       "17780.0"
      ]
     },
     "execution_count": 43,
     "metadata": {},
     "output_type": "execute_result"
    }
   ],
   "source": [
    "fee1"
   ]
  },
  {
   "cell_type": "markdown",
   "metadata": {},
   "source": [
    "##### Calculating the different between the tuition of this observation and \n",
    "##### the mean tuition off all observations calculated earlier.\n",
    "##### Displaying the difference"
   ]
  },
  {
   "cell_type": "code",
   "execution_count": 44,
   "metadata": {},
   "outputs": [],
   "source": [
    "fee_diff = avg_fee - fee1"
   ]
  },
  {
   "cell_type": "code",
   "execution_count": 45,
   "metadata": {},
   "outputs": [
    {
     "data": {
      "text/plain": [
       "-9922.200494437577"
      ]
     },
     "execution_count": 45,
     "metadata": {},
     "output_type": "execute_result"
    }
   ],
   "source": [
    "fee_diff"
   ]
  },
  {
   "cell_type": "code",
   "execution_count": 48,
   "metadata": {},
   "outputs": [
    {
     "data": {
      "text/html": [
       "<div>\n",
       "<style scoped>\n",
       "    .dataframe tbody tr th:only-of-type {\n",
       "        vertical-align: middle;\n",
       "    }\n",
       "\n",
       "    .dataframe tbody tr th {\n",
       "        vertical-align: top;\n",
       "    }\n",
       "\n",
       "    .dataframe thead th {\n",
       "        text-align: right;\n",
       "    }\n",
       "</style>\n",
       "<table border=\"1\" class=\"dataframe\">\n",
       "  <thead>\n",
       "    <tr style=\"text-align: right;\">\n",
       "      <th></th>\n",
       "      <th>INSTNM</th>\n",
       "      <th>TUITIONFEE_IN</th>\n",
       "    </tr>\n",
       "  </thead>\n",
       "  <tbody>\n",
       "    <tr>\n",
       "      <td>4778</td>\n",
       "      <td>Atlantic University College</td>\n",
       "      <td>4080.0</td>\n",
       "    </tr>\n",
       "  </tbody>\n",
       "</table>\n",
       "</div>"
      ],
      "text/plain": [
       "                           INSTNM  TUITIONFEE_IN\n",
       "4778  Atlantic University College         4080.0"
      ]
     },
     "execution_count": 48,
     "metadata": {},
     "output_type": "execute_result"
    }
   ],
   "source": [
    "rand_row_2 = df_1.sample(n=1)\n",
    "rand_row_2"
   ]
  },
  {
   "cell_type": "code",
   "execution_count": 50,
   "metadata": {},
   "outputs": [],
   "source": [
    "fee2 = rand_row_2[\"TUITIONFEE_IN\"].values[0]"
   ]
  },
  {
   "cell_type": "markdown",
   "metadata": {},
   "source": [
    "#### Function to take number of samplerows and display the mean of mean of tution fee vs mean of sample dataframe tution fee"
   ]
  },
  {
   "cell_type": "code",
   "execution_count": 128,
   "metadata": {},
   "outputs": [],
   "source": [
    "list1 = []\n",
    "def fun_1():\n",
    "    n = int(input(\"Enter Number of observations\"))\n",
    "    for i in range (0,n):\n",
    "        rand_row = df_1.sample(n=1)\n",
    "        fees = rand_row[\"TUITIONFEE_IN\"].values[0]\n",
    "        list1.append(fees)\n",
    "    avg_fees1 = sum(list1)/len(list1)\n",
    "    diff = avg_fees - avg_fees1\n",
    "    return print(\"Difference between average tution fees of {} random observations and mean od all the tution fees is {}\".format(n,diff))"
   ]
  },
  {
   "cell_type": "code",
   "execution_count": 191,
   "metadata": {},
   "outputs": [
    {
     "name": "stdout",
     "output_type": "stream",
     "text": [
      "Enter Number of observations5\n",
      "Difference between average tution fees of 5 random observations and mean od all the tution fees is -691.4978260869566\n"
     ]
    }
   ],
   "source": [
    "fun_1()"
   ]
  },
  {
   "cell_type": "code",
   "execution_count": 178,
   "metadata": {},
   "outputs": [
    {
     "name": "stdout",
     "output_type": "stream",
     "text": [
      "Enter Number of observations5\n",
      "Difference between average tution fees of 5 random observations and mean od all the tution fees is -917.3569620253165\n"
     ]
    }
   ],
   "source": [
    "fun_1()"
   ]
  },
  {
   "cell_type": "code",
   "execution_count": 132,
   "metadata": {},
   "outputs": [
    {
     "name": "stdout",
     "output_type": "stream",
     "text": [
      "Enter Number of observations5\n",
      "Difference between average tution fees of 5 random observations and mean od all the tution fees is -118.33333333333394\n"
     ]
    }
   ],
   "source": [
    "fun_1()"
   ]
  },
  {
   "cell_type": "code",
   "execution_count": 133,
   "metadata": {},
   "outputs": [
    {
     "name": "stdout",
     "output_type": "stream",
     "text": [
      "Enter Number of observations10\n",
      "Difference between average tution fees of 10 random observations and mean od all the tution fees is 349.0799999999999\n"
     ]
    }
   ],
   "source": [
    "fun_1()"
   ]
  },
  {
   "cell_type": "code",
   "execution_count": 134,
   "metadata": {},
   "outputs": [
    {
     "name": "stdout",
     "output_type": "stream",
     "text": [
      "Enter Number of observations10\n",
      "Difference between average tution fees of 10 random observations and mean od all the tution fees is 328.05714285714294\n"
     ]
    }
   ],
   "source": [
    "fun_1()"
   ]
  },
  {
   "cell_type": "code",
   "execution_count": 135,
   "metadata": {},
   "outputs": [
    {
     "name": "stdout",
     "output_type": "stream",
     "text": [
      "Enter Number of observations10\n",
      "Difference between average tution fees of 10 random observations and mean od all the tution fees is 606.8222222222221\n"
     ]
    }
   ],
   "source": [
    "fun_1()"
   ]
  },
  {
   "cell_type": "code",
   "execution_count": 136,
   "metadata": {},
   "outputs": [
    {
     "name": "stdout",
     "output_type": "stream",
     "text": [
      "Enter Number of observations20\n",
      "Difference between average tution fees of 20 random observations and mean od all the tution fees is 722.538461538461\n"
     ]
    }
   ],
   "source": [
    "fun_1()"
   ]
  },
  {
   "cell_type": "code",
   "execution_count": 174,
   "metadata": {},
   "outputs": [
    {
     "name": "stdout",
     "output_type": "stream",
     "text": [
      "Enter Number of observations20\n",
      "Difference between average tution fees of 20 random observations and mean od all the tution fees is -932.4480000000003\n"
     ]
    }
   ],
   "source": [
    "fun_1()"
   ]
  },
  {
   "cell_type": "code",
   "execution_count": 138,
   "metadata": {},
   "outputs": [
    {
     "name": "stdout",
     "output_type": "stream",
     "text": [
      "Enter Number of observations20\n",
      "Difference between average tution fees of 20 random observations and mean od all the tution fees is 756.1999999999998\n"
     ]
    }
   ],
   "source": [
    "fun_1()"
   ]
  },
  {
   "cell_type": "code",
   "execution_count": 139,
   "metadata": {},
   "outputs": [
    {
     "name": "stdout",
     "output_type": "stream",
     "text": [
      "Enter Number of observations30\n",
      "Difference between average tution fees of 30 random observations and mean od all the tution fees is 931.4296296296288\n"
     ]
    }
   ],
   "source": [
    "fun_1()"
   ]
  },
  {
   "cell_type": "code",
   "execution_count": 140,
   "metadata": {},
   "outputs": [
    {
     "name": "stdout",
     "output_type": "stream",
     "text": [
      "Enter Number of observations30\n",
      "Difference between average tution fees of 30 random observations and mean od all the tution fees is 237.1030303030302\n"
     ]
    }
   ],
   "source": [
    "fun_1()"
   ]
  },
  {
   "cell_type": "code",
   "execution_count": 141,
   "metadata": {},
   "outputs": [
    {
     "name": "stdout",
     "output_type": "stream",
     "text": [
      "Enter Number of observations30\n",
      "Difference between average tution fees of 30 random observations and mean od all the tution fees is -250.9641025641031\n"
     ]
    }
   ],
   "source": [
    "fun_1()"
   ]
  },
  {
   "cell_type": "markdown",
   "metadata": {},
   "source": [
    "#### Writing a function that take two input parameters:\n",
    "\n",
    "#### x (number of observations)\n",
    "#### y (the name of the dataframe).\n",
    "#### The function will perform the following:\n",
    "\n",
    "#### Randomly select x observations from y\n",
    "#### Calculate the mean of these x observations\n",
    "#### Calculate the mean of all observations\n",
    "#### Calculate the difference between the two means\n",
    "#### Return the difference"
   ]
  },
  {
   "cell_type": "code",
   "execution_count": 193,
   "metadata": {},
   "outputs": [],
   "source": [
    "def fun_2(x,y):\n",
    "    rand_df = y.sample(x)\n",
    "    avg = rand_df[\"TUITIONFEE_IN\"].mean()\n",
    "    avg_1 = y[\"TUITIONFEE_IN\"].mean()\n",
    "    return avg_1 - avg\n",
    "    "
   ]
  },
  {
   "cell_type": "code",
   "execution_count": 194,
   "metadata": {},
   "outputs": [
    {
     "data": {
      "text/plain": [
       "516.8495055624226"
      ]
     },
     "execution_count": 194,
     "metadata": {},
     "output_type": "execute_result"
    }
   ],
   "source": [
    "# Testing the function\n",
    "fun_2(20,df_1)"
   ]
  },
  {
   "cell_type": "markdown",
   "metadata": {},
   "source": [
    "#### Creating an empty list and name it \"means_diff\" for differences of population mean and sample means;\n",
    "#### Loop through the list sample_sizes:\n",
    "#### For each element in the sample size list, obtain a random sample of that size from the data frame;\n",
    "#### Calculate the sample mean \n",
    "#### Calculate the difference between the population mean and the sample mean\n",
    "#### Append the difference to the list \"means_diff\"\n",
    "#### Display the list \"means_diff\" after the loop is completed"
   ]
  },
  {
   "cell_type": "code",
   "execution_count": 195,
   "metadata": {},
   "outputs": [],
   "source": [
    "sample_sizes = []\n",
    "\n",
    "for i in range(1,51):\n",
    "    sample_sizes.append(i)"
   ]
  },
  {
   "cell_type": "code",
   "execution_count": 196,
   "metadata": {},
   "outputs": [
    {
     "data": {
      "text/plain": [
       "[1,\n",
       " 2,\n",
       " 3,\n",
       " 4,\n",
       " 5,\n",
       " 6,\n",
       " 7,\n",
       " 8,\n",
       " 9,\n",
       " 10,\n",
       " 11,\n",
       " 12,\n",
       " 13,\n",
       " 14,\n",
       " 15,\n",
       " 16,\n",
       " 17,\n",
       " 18,\n",
       " 19,\n",
       " 20,\n",
       " 21,\n",
       " 22,\n",
       " 23,\n",
       " 24,\n",
       " 25,\n",
       " 26,\n",
       " 27,\n",
       " 28,\n",
       " 29,\n",
       " 30,\n",
       " 31,\n",
       " 32,\n",
       " 33,\n",
       " 34,\n",
       " 35,\n",
       " 36,\n",
       " 37,\n",
       " 38,\n",
       " 39,\n",
       " 40,\n",
       " 41,\n",
       " 42,\n",
       " 43,\n",
       " 44,\n",
       " 45,\n",
       " 46,\n",
       " 47,\n",
       " 48,\n",
       " 49,\n",
       " 50]"
      ]
     },
     "execution_count": 196,
     "metadata": {},
     "output_type": "execute_result"
    }
   ],
   "source": [
    "sample_sizes"
   ]
  },
  {
   "cell_type": "code",
   "execution_count": 197,
   "metadata": {},
   "outputs": [],
   "source": [
    "means_diff = []\n",
    "for i in sample_sizes:\n",
    "    random_df = df_1.sample(i)\n",
    "    avg1 = random_df[\"TUITIONFEE_IN\"].mean()\n",
    "    difference = avg_fee - avg1\n",
    "    means_diff.append(difference)\n",
    "    "
   ]
  },
  {
   "cell_type": "code",
   "execution_count": 198,
   "metadata": {},
   "outputs": [
    {
     "data": {
      "text/plain": [
       "[-6022.200494437578,\n",
       " -13629.700494437577,\n",
       " 2215.7995055624224,\n",
       " -1277.4504944375776,\n",
       " -1285.800494437578,\n",
       " -2683.0338277709116,\n",
       " 1895.9423627052793,\n",
       " -715.8254944375776,\n",
       " -778.2004944375776,\n",
       " 141.09950556242256,\n",
       " 823.7995055624224,\n",
       " 395.7995055624224,\n",
       " -851.2774175145014,\n",
       " -1794.5576372947207,\n",
       " 2215.5995055624226,\n",
       " -65.13799443757762,\n",
       " 500.7995055624224,\n",
       " -138.92271665980024,\n",
       " 596.3258213518957,\n",
       " 47.599505562422564,\n",
       " -956.5338277709116,\n",
       " -942.0186762557596,\n",
       " 811.2777664319874,\n",
       " 1080.8411722290894,\n",
       " 1083.8395055624223,\n",
       " 368.49181325473,\n",
       " -802.8301240672072,\n",
       " -70.12906586614918,\n",
       " 1668.2132986658708,\n",
       " -4098.100494437577,\n",
       " 645.0898281430673,\n",
       " -496.5129944375776,\n",
       " 2358.0419298048464,\n",
       " -517.318141496401,\n",
       " -355.42906586614936,\n",
       " 1560.1606166735337,\n",
       " 330.6643704272874,\n",
       " 1363.773189772949,\n",
       " -1621.4569046939878,\n",
       " 581.1745055624224,\n",
       " 810.9214567819345,\n",
       " -786.8195420566253,\n",
       " 698.659970678701,\n",
       " -1569.3368580739416,\n",
       " 11.088394451311615,\n",
       " -1058.3309292201857,\n",
       " 72.54418641348639,\n",
       " 327.46617222908935,\n",
       " -858.8331474988017,\n",
       " 1370.7995055624224]"
      ]
     },
     "execution_count": 198,
     "metadata": {},
     "output_type": "execute_result"
    }
   ],
   "source": [
    "means_diff"
   ]
  },
  {
   "cell_type": "markdown",
   "metadata": {},
   "source": [
    "#### Making a scatter plot with sample size on the x-axs and  mean difference on the y-axis"
   ]
  },
  {
   "cell_type": "code",
   "execution_count": 218,
   "metadata": {},
   "outputs": [
    {
     "data": {
      "image/png": "[encoded data removed]",
      "text/plain": [
       "<Figure size 1080x360 with 1 Axes>"
      ]
     },
     "metadata": {
      "needs_background": "light"
     },
     "output_type": "display_data"
    }
   ],
   "source": [
    "plt.scatter(sample_sizes,means_diff)\n",
    "plt.xlabel('sample_sizes')\n",
    "plt.ylabel('means_diff')\n",
    "plt.gcf().set_size_inches((15, 5))   \n",
    "plt.show()"
   ]
  },
  {
   "cell_type": "markdown",
   "metadata": {},
   "source": [
    "#### Repating with larger number"
   ]
  },
  {
   "cell_type": "code",
   "execution_count": 234,
   "metadata": {},
   "outputs": [],
   "source": [
    "sample_sizes1 = []\n",
    "\n",
    "for i in range(1,300):\n",
    "    sample_sizes1.append(i)"
   ]
  },
  {
   "cell_type": "code",
   "execution_count": 235,
   "metadata": {},
   "outputs": [],
   "source": [
    "means_diff1 = []\n",
    "for i in sample_sizes1:\n",
    "    random_df1 = df_1.sample(i)\n",
    "    avg2 = random_df1[\"TUITIONFEE_IN\"].mean()\n",
    "    difference1 = avg_fee - avg2\n",
    "    means_diff1.append(difference1)"
   ]
  },
  {
   "cell_type": "code",
   "execution_count": 244,
   "metadata": {},
   "outputs": [
    {
     "data": {
      "image/png": "[encoded data removed]",
      "text/plain": [
       "<Figure size 1080x1080 with 1 Axes>"
      ]
     },
     "metadata": {
      "needs_background": "light"
     },
     "output_type": "display_data"
    }
   ],
   "source": [
    "plt.scatter(sample_sizes1,means_diff1)\n",
    "plt.xlabel('sample_sizes')\n",
    "plt.ylabel('means_diff')\n",
    "plt.gcf().set_size_inches((15, 15))   \n",
    "plt.show()"
   ]
  },
  {
   "cell_type": "code",
   "execution_count": null,
   "metadata": {},
   "outputs": [],
   "source": []
  }
 ],
 "metadata": {
  "kernelspec": {
   "display_name": "Python 3",
   "language": "python",
   "name": "python3"
  },
  "language_info": {
   "codemirror_mode": {
    "name": "ipython",
    "version": 3
   },
   "file_extension": ".py",
   "mimetype": "text/x-python",
   "name": "python",
   "nbconvert_exporter": "python",
   "pygments_lexer": "ipython3",
   "version": "3.7.4"
  }
 },
 "nbformat": 4,
 "nbformat_minor": 2
}
